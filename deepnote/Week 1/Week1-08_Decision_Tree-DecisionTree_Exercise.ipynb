{
  "cells": [
    {
      "cell_type": "markdown",
      "source": "# Decision Tree Worksheet",
      "metadata": {
        "id": "-UimMCmGe19F",
        "colab_type": "text",
        "cell_id": "bae5bc6b01b14309bf3e67224907f43f",
        "deepnote_cell_type": "markdown"
      }
    },
    {
      "cell_type": "code",
      "source": "import numpy as np\nimport pandas as po\nfrom sklearn.model_selection import train_test_split\nfrom sklearn.tree import DecisionTreeClassifier\nfrom sklearn.metrics import accuracy_score\nfrom sklearn import tree\nfrom sklearn.ensemble import RandomForestClassifier\nfrom sklearn import metrics\nimport graphviz\nimport matplotlib.pyplot as plt",
      "metadata": {
        "id": "kedW02LgKjVL",
        "colab": {
          "autoexec": {
            "startup": false,
            "wait_interval": 0
          }
        },
        "colab_type": "code",
        "source_hash": "83f21d38",
        "execution_start": 1625523304867,
        "execution_millis": 1491,
        "deepnote_to_be_reexecuted": false,
        "cell_id": "8b1096ad383244c08f8bf807230262f5",
        "deepnote_cell_type": "code"
      },
      "outputs": [],
      "execution_count": 1
    },
    {
      "cell_type": "markdown",
      "source": "## Loading data\n\nLoad Pima diabetes dataset and split data, with test size 20% and validaton 20%.",
      "metadata": {
        "id": "rz35eT5-SMht",
        "colab_type": "text",
        "cell_id": "4bc6180fd0d94e07ab45c0ed30a46c58",
        "deepnote_cell_type": "markdown"
      }
    },
    {
      "cell_type": "code",
      "source": "url = \"https://raw.githubusercontent.com/jbrownlee/Datasets/master/pima-indians-diabetes.data.csv\"\nnames = ['preg', 'plas', 'pres', 'skin', 'test', 'mass', 'pedi', 'age', 'class']\n\n## YOUR CODE HERE",
      "metadata": {
        "id": "Ydh9gmDkMGmu",
        "colab": {
          "autoexec": {
            "startup": false,
            "wait_interval": 0
          }
        },
        "colab_type": "code",
        "source_hash": "7da8daf0",
        "execution_start": 1625523316115,
        "execution_millis": 3,
        "deepnote_to_be_reexecuted": false,
        "cell_id": "a2818d550f8144ecb28b399404b320f5",
        "deepnote_cell_type": "code"
      },
      "outputs": [],
      "execution_count": 2
    },
    {
      "cell_type": "markdown",
      "source": "## Creating Model\n\nMake a model using sklearn's DecisionTreeClassifier, with a high max-depth and low minimum sample leafs.",
      "metadata": {
        "id": "KAFhsJIsSpMR",
        "colab_type": "text",
        "cell_id": "fecfdd4b99244de29cf6768e1621f93f",
        "deepnote_cell_type": "markdown"
      }
    },
    {
      "cell_type": "code",
      "source": "## YOUR CODE HERE",
      "metadata": {
        "id": "fHbA28aFS2DM",
        "colab": {
          "autoexec": {
            "startup": false,
            "wait_interval": 0
          }
        },
        "colab_type": "code",
        "cell_id": "9c32d2e3c4064e6ebf7618806c6c7537",
        "deepnote_cell_type": "code"
      },
      "outputs": [],
      "execution_count": 0
    },
    {
      "cell_type": "markdown",
      "source": "Print accuracy of training and validation data.",
      "metadata": {
        "id": "4_8DZinWTJRa",
        "colab_type": "text",
        "cell_id": "c7cca103374747ebb0739edc57c0aba5",
        "deepnote_cell_type": "markdown"
      }
    },
    {
      "cell_type": "code",
      "source": "## YOUR CODE HERE",
      "metadata": {
        "id": "EgByCP_EhyB2",
        "colab": {
          "autoexec": {
            "startup": false,
            "wait_interval": 0
          }
        },
        "colab_type": "code",
        "cell_id": "46e18c64e3df40a0a7f0f9b93d57b2b6",
        "deepnote_cell_type": "code"
      },
      "outputs": [],
      "execution_count": 0
    },
    {
      "cell_type": "markdown",
      "source": "Make a model with a low max-depth and higher minimum sample leafs.",
      "metadata": {
        "id": "6HNa6fxbT6ak",
        "colab_type": "text",
        "cell_id": "cf5dcafd2886492eac425df24a96746e",
        "deepnote_cell_type": "markdown"
      }
    },
    {
      "cell_type": "code",
      "source": "## YOUR CODE HERE",
      "metadata": {
        "id": "6Pbu-t_tiqnB",
        "colab": {
          "height": 17,
          "autoexec": {
            "startup": false,
            "wait_interval": 0
          },
          "base_uri": "https://localhost:8080/"
        },
        "outputId": "ef95b427-e6b4-41a7-f992-9826342b662c",
        "colab_type": "code",
        "executionInfo": {
          "user": {
            "userId": "102241934905781120798",
            "photoUrl": "https://lh3.googleusercontent.com/a/default-user=s128",
            "displayName": "john passarelli"
          },
          "status": "ok",
          "elapsed": 287,
          "user_tz": 240,
          "timestamp": 1530627778885
        },
        "cell_id": "e139ccdb95464554b25dd1c185aa5feb",
        "deepnote_cell_type": "code"
      },
      "outputs": [],
      "execution_count": 1
    },
    {
      "cell_type": "markdown",
      "source": "Print accuracy of training and validation data.",
      "metadata": {
        "cell_id": "fcd02c0db2b44fa4831baa264c24debd",
        "deepnote_cell_type": "markdown"
      }
    },
    {
      "cell_type": "code",
      "source": "## YOUR CODE HERE",
      "metadata": {
        "cell_id": "2af698ec714941eebaed841b6e646ae5",
        "deepnote_cell_type": "code"
      },
      "outputs": [],
      "execution_count": null
    },
    {
      "cell_type": "markdown",
      "source": "Explain the accuracy results below. \n\n(YOUR ANSWER HERE)",
      "metadata": {
        "cell_id": "f64a4a427d924b0ea4f726ded596a509",
        "deepnote_cell_type": "markdown"
      }
    },
    {
      "cell_type": "markdown",
      "source": "## Metrics",
      "metadata": {
        "cell_id": "707abc0e7dd64e5685987c127bd297d9",
        "deepnote_cell_type": "markdown"
      }
    },
    {
      "cell_type": "markdown",
      "source": "Plot the ROC curve and print the AUC of the second model.",
      "metadata": {
        "cell_id": "ff5f76c1593846c284a972ae5dbb97da",
        "deepnote_cell_type": "markdown"
      }
    },
    {
      "cell_type": "code",
      "source": "## YOUR CODE HERE",
      "metadata": {
        "cell_id": "9e33271970614bdfb1b4e352fa020e67",
        "deepnote_cell_type": "code"
      },
      "outputs": [],
      "execution_count": null
    },
    {
      "cell_type": "markdown",
      "source": "Use graphviz to visualize your 2nd tree.",
      "metadata": {
        "id": "tKdqOMBKUvGZ",
        "colab_type": "text",
        "cell_id": "ce54d4b6aa44467eb96be86805e7d157",
        "deepnote_cell_type": "markdown"
      }
    },
    {
      "cell_type": "code",
      "source": "## YOUR CODE HERE",
      "metadata": {
        "id": "8o55bY_jl8gj",
        "colab": {
          "autoexec": {
            "startup": false,
            "wait_interval": 0
          }
        },
        "colab_type": "code",
        "cell_id": "e29102fbde57452b8d34fd282cbf43f8",
        "deepnote_cell_type": "code"
      },
      "outputs": [],
      "execution_count": 0
    },
    {
      "cell_type": "markdown",
      "source": "#### Use the graph above to answer the questions below",
      "metadata": {
        "id": "4iz4meWDVmo2",
        "colab_type": "text",
        "cell_id": "5ba95178d9d24f42b2d8774cfc960a66",
        "deepnote_cell_type": "markdown"
      }
    },
    {
      "cell_type": "markdown",
      "source": "Question 1: What do you think X[n] represents in the nodes from the graph?\n\n(YOUR ANSWER HERE)",
      "metadata": {
        "id": "u1yM9h10WUEv",
        "colab_type": "text",
        "cell_id": "bd7ed82a18fb4000adb8e9547eccd767",
        "deepnote_cell_type": "markdown"
      }
    },
    {
      "cell_type": "markdown",
      "source": "Question 2: What is the root feature? Does it make sense as the root feature?\n\n(YOUR ANSWER HERE)",
      "metadata": {
        "id": "rA7B0oTaWUIe",
        "colab_type": "text",
        "cell_id": "b2d5187c159e4ab89e18a10672636a07",
        "deepnote_cell_type": "markdown"
      }
    },
    {
      "cell_type": "markdown",
      "source": "Question 3: If you were to change the parameters to have a max_depth of 500 and min_samples_leaf of 1, what do you think the effect would be on the test accuracy? Training accuracy?\n\n(YOUR ANSWER HERE)",
      "metadata": {
        "id": "1t559pS3ZHES",
        "colab_type": "text",
        "cell_id": "5d2860b37a3b4fe3a9715525bd5b5414",
        "deepnote_cell_type": "markdown"
      }
    },
    {
      "cell_type": "markdown",
      "source": "**Test your guesses, create a model with max_depth=500 and min_samples_leaf=1, and predict values for the training and validation data**",
      "metadata": {
        "id": "7dnlqId2bIcR",
        "colab_type": "text",
        "cell_id": "826653ef3aa9485b8627101b472a990c",
        "deepnote_cell_type": "markdown"
      }
    },
    {
      "cell_type": "code",
      "source": "## YOUR CODE HERE",
      "metadata": {
        "id": "hnUQKX9vl9Gy",
        "colab": {
          "height": 17,
          "autoexec": {
            "startup": false,
            "wait_interval": 0
          },
          "base_uri": "https://localhost:8080/"
        },
        "outputId": "ebaa5e52-a33f-4749-a3f6-6a3fde24da1f",
        "colab_type": "code",
        "executionInfo": {
          "user": {
            "userId": "102241934905781120798",
            "photoUrl": "https://lh3.googleusercontent.com/a/default-user=s128",
            "displayName": "john passarelli"
          },
          "status": "ok",
          "elapsed": 235,
          "user_tz": 240,
          "timestamp": 1530627843330
        },
        "cell_id": "8561e891994c45dc8e29dc3576df22ae",
        "deepnote_cell_type": "code"
      },
      "outputs": [],
      "execution_count": 3
    },
    {
      "cell_type": "markdown",
      "source": "# Random Forest",
      "metadata": {
        "id": "40Psyt65pD8p",
        "colab_type": "text",
        "cell_id": "d452ceb581d24c4b840ffbea11484292",
        "deepnote_cell_type": "markdown"
      }
    },
    {
      "cell_type": "markdown",
      "source": "## Creating Model\n\nCreate a model with sklearn's RandomForestClassifier and predict values on your validation set.",
      "metadata": {
        "id": "mjLu1MLIpGNF",
        "colab_type": "text",
        "cell_id": "10995f7b9f964efcace8281bf936846c",
        "deepnote_cell_type": "markdown"
      }
    },
    {
      "cell_type": "code",
      "source": "## YOUR CODE HERE",
      "metadata": {
        "id": "TYwbpWxUfDIY",
        "colab": {
          "height": 37,
          "autoexec": {
            "startup": false,
            "wait_interval": 0
          },
          "base_uri": "https://localhost:8080/"
        },
        "outputId": "0008a18f-a9e3-4c04-b42e-adc8ce9aa966",
        "colab_type": "code",
        "executionInfo": {
          "user": {
            "userId": "102241934905781120798",
            "photoUrl": "https://lh3.googleusercontent.com/a/default-user=s128",
            "displayName": "john passarelli"
          },
          "status": "ok",
          "elapsed": 318,
          "user_tz": 240,
          "timestamp": 1530627847311
        },
        "cell_id": "02b0bfe00c7d4949a8bdf4ec31e22e64",
        "deepnote_cell_type": "code"
      },
      "outputs": [],
      "execution_count": 4
    },
    {
      "cell_type": "markdown",
      "source": "Print accuracy of training and validation data.",
      "metadata": {
        "id": "6Ys_J3O4pd0u",
        "colab_type": "text",
        "cell_id": "a478ad8d7fed429398959eee20526005",
        "deepnote_cell_type": "markdown"
      }
    },
    {
      "cell_type": "code",
      "source": "## YOUR CODE HERE",
      "metadata": {
        "id": "aQdfjEWdfDOH",
        "colab": {
          "height": 17,
          "autoexec": {
            "startup": false,
            "wait_interval": 0
          },
          "base_uri": "https://localhost:8080/"
        },
        "outputId": "751008b5-156c-4bea-d599-37f84bd1b60c",
        "colab_type": "code",
        "executionInfo": {
          "user": {
            "userId": "102241934905781120798",
            "photoUrl": "https://lh3.googleusercontent.com/a/default-user=s128",
            "displayName": "john passarelli"
          },
          "status": "ok",
          "elapsed": 337,
          "user_tz": 240,
          "timestamp": 1530627851278
        },
        "cell_id": "d1ad172fda814d4dad79a74db17484e0",
        "deepnote_cell_type": "code"
      },
      "outputs": [],
      "execution_count": 5
    },
    {
      "cell_type": "markdown",
      "source": "How did the accuracy compare to the decision tree's accuracy?\n\n(YOUR ANSWER HERE)",
      "metadata": {
        "cell_id": "660d60e1d52c4743b4db6c7c1488aa54",
        "deepnote_cell_type": "markdown"
      }
    },
    {
      "cell_type": "markdown",
      "source": "Print the 3 most important features (hint: sklearn has an attribute to help you find these)",
      "metadata": {
        "id": "jGlSHxuUqAnX",
        "colab_type": "text",
        "cell_id": "d3985f159cd2462b845d76dc4a2eb5f2",
        "deepnote_cell_type": "markdown"
      }
    },
    {
      "cell_type": "code",
      "source": "## YOUR CODE HERE",
      "metadata": {
        "id": "5rVekWn0qw3r",
        "colab": {
          "height": 17,
          "autoexec": {
            "startup": false,
            "wait_interval": 0
          },
          "base_uri": "https://localhost:8080/"
        },
        "outputId": "d5e516d3-4f91-4394-b2e5-f26427b404ef",
        "colab_type": "code",
        "executionInfo": {
          "user": {
            "userId": "102241934905781120798",
            "photoUrl": "https://lh3.googleusercontent.com/a/default-user=s128",
            "displayName": "john passarelli"
          },
          "status": "ok",
          "elapsed": 448,
          "user_tz": 240,
          "timestamp": 1530627855691
        },
        "cell_id": "97ac12d54ca94ac8a5ecb475a9a7c95a",
        "deepnote_cell_type": "code"
      },
      "outputs": [],
      "execution_count": 6
    },
    {
      "cell_type": "markdown",
      "source": "Find the accuracy for random forests with 1 to 100 trees, counting by 5. Print and then plot these accuracies.",
      "metadata": {
        "id": "lynu8pLDtd0S",
        "colab_type": "text",
        "cell_id": "2d4e56089dc445ba8f286758de7e8896",
        "deepnote_cell_type": "markdown"
      }
    },
    {
      "cell_type": "code",
      "source": "## YOUR CODE HERE",
      "metadata": {
        "id": "e2hG7npcuM7f",
        "colab": {
          "height": 17,
          "autoexec": {
            "startup": false,
            "wait_interval": 0
          },
          "base_uri": "https://localhost:8080/"
        },
        "outputId": "fb9e32ed-fb17-462e-a2f2-8db7964bb3d7",
        "colab_type": "code",
        "executionInfo": {
          "user": {
            "userId": "102241934905781120798",
            "photoUrl": "https://lh3.googleusercontent.com/a/default-user=s128",
            "displayName": "john passarelli"
          },
          "status": "ok",
          "elapsed": 371,
          "user_tz": 240,
          "timestamp": 1530627860158
        },
        "cell_id": "70daef1bd5c9434ab2288e8246f47298",
        "deepnote_cell_type": "code"
      },
      "outputs": [],
      "execution_count": 7
    },
    {
      "cell_type": "markdown",
      "source": "Plot the roc_curve using predict_proba a function for our random forest model, and metrics.roc_curve\n\nIt might help to google these functions and look at sklearn's documentation.",
      "metadata": {
        "cell_id": "ae9df57763f14981b66d48b1b1143c03",
        "deepnote_cell_type": "markdown"
      }
    },
    {
      "cell_type": "code",
      "source": "## YOUR CODE HERE",
      "metadata": {
        "cell_id": "b52c7272be02457fb46c8aa77259a50c",
        "deepnote_cell_type": "code"
      },
      "outputs": [],
      "execution_count": null
    },
    {
      "cell_type": "markdown",
      "source": "<a style='text-decoration:none;line-height:16px;display:flex;color:#5B5B62;padding:10px;justify-content:end;' href='https://deepnote.com?utm_source=created-in-deepnote-cell&projectId=a67199aa-82b5-43f0-a51b-f5cc84f71e7c' target=\"_blank\">\n<img alt='Created in deepnote.com' style='display:inline;max-height:16px;margin:0px;margin-right:7.5px;' src='data:image/svg+xml;base64,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' > </img>\nCreated in <span style='font-weight:600;margin-left:4px;'>Deepnote</span></a>",
      "metadata": {
        "created_in_deepnote_cell": true,
        "deepnote_cell_type": "markdown"
      }
    }
  ],
  "nbformat": 4,
  "nbformat_minor": 0,
  "metadata": {
    "colab": {
      "name": "DecisionTreeWorksheetStudent",
      "views": {},
      "version": "0.3.2",
      "provenance": [
        {
          "file_id": "165CSmT99w4_Sv1UENIyvIkH7ZEw2Xeh8",
          "timestamp": 1527780043079
        }
      ],
      "default_view": {},
      "collapsed_sections": []
    },
    "deepnote": {},
    "kernelspec": {
      "name": "python3",
      "language": "python",
      "display_name": "Python 3"
    },
    "language_info": {
      "name": "python",
      "version": "3.7.3",
      "mimetype": "text/x-python",
      "file_extension": ".py",
      "pygments_lexer": "ipython3",
      "codemirror_mode": {
        "name": "ipython",
        "version": 3
      },
      "nbconvert_exporter": "python"
    },
    "deepnote_notebook_id": "666c3514906b44c6a8549d93776d9166",
    "deepnote_execution_queue": []
  }
}